{
  "nbformat": 4,
  "nbformat_minor": 0,
  "metadata": {
    "colab": {
      "provenance": [],
      "authorship_tag": "ABX9TyOdg3HCJUIImoENsMhsaVAP",
      "include_colab_link": true
    },
    "kernelspec": {
      "name": "python3",
      "display_name": "Python 3"
    },
    "language_info": {
      "name": "python"
    }
  },
  "cells": [
    {
      "cell_type": "markdown",
      "metadata": {
        "id": "view-in-github",
        "colab_type": "text"
      },
      "source": [
        "<a href=\"https://colab.research.google.com/github/RISHIKA-hub-929/CODSOFT-5/blob/main/credit_card_fraud_detection.ipynb\" target=\"_parent\"><img src=\"https://colab.research.google.com/assets/colab-badge.svg\" alt=\"Open In Colab\"/></a>"
      ]
    },
    {
      "cell_type": "code",
      "execution_count": null,
      "metadata": {
        "colab": {
          "base_uri": "https://localhost:8080/"
        },
        "id": "JOMjcTwQRAdM",
        "outputId": "370c60c4-dec3-4c2e-9909-26fb43395b35"
      },
      "outputs": [
        {
          "output_type": "stream",
          "name": "stdout",
          "text": [
            "<class 'pandas.core.frame.DataFrame'>\n",
            "RangeIndex: 5848 entries, 0 to 5847\n",
            "Data columns (total 31 columns):\n",
            " #   Column  Non-Null Count  Dtype  \n",
            "---  ------  --------------  -----  \n",
            " 0   Time    5848 non-null   int64  \n",
            " 1   V1      5848 non-null   float64\n",
            " 2   V2      5848 non-null   float64\n",
            " 3   V3      5848 non-null   float64\n",
            " 4   V4      5848 non-null   float64\n",
            " 5   V5      5848 non-null   float64\n",
            " 6   V6      5848 non-null   float64\n",
            " 7   V7      5848 non-null   float64\n",
            " 8   V8      5848 non-null   float64\n",
            " 9   V9      5848 non-null   float64\n",
            " 10  V10     5848 non-null   float64\n",
            " 11  V11     5848 non-null   float64\n",
            " 12  V12     5848 non-null   float64\n",
            " 13  V13     5848 non-null   float64\n",
            " 14  V14     5848 non-null   float64\n",
            " 15  V15     5848 non-null   float64\n",
            " 16  V16     5848 non-null   float64\n",
            " 17  V17     5848 non-null   float64\n",
            " 18  V18     5848 non-null   float64\n",
            " 19  V19     5848 non-null   float64\n",
            " 20  V20     5848 non-null   float64\n",
            " 21  V21     5848 non-null   float64\n",
            " 22  V22     5848 non-null   float64\n",
            " 23  V23     5848 non-null   float64\n",
            " 24  V24     5848 non-null   float64\n",
            " 25  V25     5848 non-null   float64\n",
            " 26  V26     5847 non-null   float64\n",
            " 27  V27     5847 non-null   float64\n",
            " 28  V28     5847 non-null   float64\n",
            " 29  Amount  5847 non-null   float64\n",
            " 30  Class   5847 non-null   float64\n",
            "dtypes: float64(30), int64(1)\n",
            "memory usage: 1.4 MB\n",
            "None\n",
            "   Time        V1        V2        V3        V4        V5        V6        V7  \\\n",
            "0     0 -1.359807 -0.072781  2.536347  1.378155 -0.338321  0.462388  0.239599   \n",
            "1     0  1.191857  0.266151  0.166480  0.448154  0.060018 -0.082361 -0.078803   \n",
            "2     1 -1.358354 -1.340163  1.773209  0.379780 -0.503198  1.800499  0.791461   \n",
            "3     1 -0.966272 -0.185226  1.792993 -0.863291 -0.010309  1.247203  0.237609   \n",
            "4     2 -1.158233  0.877737  1.548718  0.403034 -0.407193  0.095921  0.592941   \n",
            "\n",
            "         V8        V9  ...       V21       V22       V23       V24       V25  \\\n",
            "0  0.098698  0.363787  ... -0.018307  0.277838 -0.110474  0.066928  0.128539   \n",
            "1  0.085102 -0.255425  ... -0.225775 -0.638672  0.101288 -0.339846  0.167170   \n",
            "2  0.247676 -1.514654  ...  0.247998  0.771679  0.909412 -0.689281 -0.327642   \n",
            "3  0.377436 -1.387024  ... -0.108300  0.005274 -0.190321 -1.175575  0.647376   \n",
            "4 -0.270533  0.817739  ... -0.009431  0.798278 -0.137458  0.141267 -0.206010   \n",
            "\n",
            "        V26       V27       V28  Amount  Class  \n",
            "0 -0.189115  0.133558 -0.021053  149.62    0.0  \n",
            "1  0.125895 -0.008983  0.014724    2.69    0.0  \n",
            "2 -0.139097 -0.055353 -0.059752  378.66    0.0  \n",
            "3 -0.221929  0.062723  0.061458  123.50    0.0  \n",
            "4  0.502292  0.219422  0.215153   69.99    0.0  \n",
            "\n",
            "[5 rows x 31 columns]\n"
          ]
        }
      ],
      "source": [
        "import pandas as pd\n",
        "\n",
        "# Load the dataset\n",
        "df = pd.read_csv(\"/content/creditcard.csv\")\n",
        "\n",
        "# Display basic info\n",
        "print(df.info())\n",
        "\n",
        "# Check first few rows\n",
        "print(df.head())\n"
      ]
    },
    {
      "cell_type": "code",
      "source": [
        "# Check for missing values\n",
        "print(df.isnull().sum())\n"
      ],
      "metadata": {
        "colab": {
          "base_uri": "https://localhost:8080/"
        },
        "id": "Pc6PJ0OFRMlC",
        "outputId": "4c637255-0919-45e8-f4ce-c894c83775f7"
      },
      "execution_count": null,
      "outputs": [
        {
          "output_type": "stream",
          "name": "stdout",
          "text": [
            "Time      0\n",
            "V1        0\n",
            "V2        0\n",
            "V3        0\n",
            "V4        0\n",
            "V5        0\n",
            "V6        0\n",
            "V7        0\n",
            "V8        0\n",
            "V9        0\n",
            "V10       0\n",
            "V11       0\n",
            "V12       0\n",
            "V13       0\n",
            "V14       0\n",
            "V15       0\n",
            "V16       0\n",
            "V17       0\n",
            "V18       0\n",
            "V19       0\n",
            "V20       0\n",
            "V21       0\n",
            "V22       0\n",
            "V23       0\n",
            "V24       0\n",
            "V25       0\n",
            "V26       1\n",
            "V27       1\n",
            "V28       1\n",
            "Amount    1\n",
            "Class     1\n",
            "dtype: int64\n"
          ]
        }
      ]
    },
    {
      "cell_type": "code",
      "source": [
        "import matplotlib.pyplot as plt\n",
        "import seaborn as sns\n",
        "\n",
        "# Count of fraud vs genuine transactions\n",
        "plt.figure(figsize=(6,4))\n",
        "sns.countplot(x='Class', data=df)\n",
        "plt.title('Class Distribution (0 = Genuine, 1 = Fraud)')\n",
        "plt.show()\n"
      ],
      "metadata": {
        "colab": {
          "base_uri": "https://localhost:8080/",
          "height": 410
        },
        "id": "TakSZ4xvRQ_F",
        "outputId": "180d62eb-337a-4b6d-b1f8-acfdf4790308"
      },
      "execution_count": null,
      "outputs": [
        {
          "output_type": "display_data",
          "data": {
            "text/plain": [
              "<Figure size 600x400 with 1 Axes>"
            ],
            "image/png": "[encoded data removed]"
          },
          "metadata": {}
        }
      ]
    },
    {
      "cell_type": "code",
      "source": [
        "from sklearn.preprocessing import StandardScaler\n",
        "\n",
        "# Apply scaling to the 'Amount' column\n",
        "df['Normalized_Amount'] = StandardScaler().fit_transform(df[['Amount']])\n",
        "\n",
        "# Drop the original 'Amount' and 'Time' columns\n",
        "df = df.drop(['Amount', 'Time'], axis=1)\n",
        "\n",
        "print(df.head())\n"
      ],
      "metadata": {
        "colab": {
          "base_uri": "https://localhost:8080/"
        },
        "id": "39wkX7kBRUs1",
        "outputId": "c17594eb-0753-422f-b4e6-c2cf852303d2"
      },
      "execution_count": null,
      "outputs": [
        {
          "output_type": "stream",
          "name": "stdout",
          "text": [
            "         V1        V2        V3        V4        V5        V6        V7  \\\n",
            "0 -1.359807 -0.072781  2.536347  1.378155 -0.338321  0.462388  0.239599   \n",
            "1  1.191857  0.266151  0.166480  0.448154  0.060018 -0.082361 -0.078803   \n",
            "2 -1.358354 -1.340163  1.773209  0.379780 -0.503198  1.800499  0.791461   \n",
            "3 -0.966272 -0.185226  1.792993 -0.863291 -0.010309  1.247203  0.237609   \n",
            "4 -1.158233  0.877737  1.548718  0.403034 -0.407193  0.095921  0.592941   \n",
            "\n",
            "         V8        V9       V10  ...       V21       V22       V23       V24  \\\n",
            "0  0.098698  0.363787  0.090794  ... -0.018307  0.277838 -0.110474  0.066928   \n",
            "1  0.085102 -0.255425 -0.166974  ... -0.225775 -0.638672  0.101288 -0.339846   \n",
            "2  0.247676 -1.514654  0.207643  ...  0.247998  0.771679  0.909412 -0.689281   \n",
            "3  0.377436 -1.387024 -0.054952  ... -0.108300  0.005274 -0.190321 -1.175575   \n",
            "4 -0.270533  0.817739  0.753074  ... -0.009431  0.798278 -0.137458  0.141267   \n",
            "\n",
            "        V25       V26       V27       V28  Class  Normalized_Amount  \n",
            "0  0.128539 -0.189115  0.133558 -0.021053    0.0           0.436909  \n",
            "1  0.167170  0.125895 -0.008983  0.014724    0.0          -0.322619  \n",
            "2 -0.327642 -0.139097 -0.055353 -0.059752    0.0           1.620890  \n",
            "3  0.647376 -0.221929  0.062723  0.061458    0.0           0.301886  \n",
            "4 -0.206010  0.502292  0.219422  0.215153    0.0           0.025276  \n",
            "\n",
            "[5 rows x 30 columns]\n"
          ]
        }
      ]
    },
    {
      "cell_type": "code",
      "source": [
        "from sklearn.model_selection import train_test_split\n",
        "\n",
        "# Define features (X) and target (y)\n",
        "X = df.drop('Class', axis=1)  # All columns except 'Class'\n",
        "y = df['Class']  # Target column\n",
        "\n",
        "# Split dataset (80% training, 20% testing)\n",
        "X_train, X_test, y_train, y_test = train_test_split(X, y, test_size=0.2, random_state=42)\n",
        "\n",
        "print(\"Training set shape:\", X_train.shape)\n",
        "print(\"Testing set shape:\", X_test.shape)\n"
      ],
      "metadata": {
        "colab": {
          "base_uri": "https://localhost:8080/"
        },
        "id": "PbMOk-KPRaLP",
        "outputId": "c1071b6e-5748-48dd-afb8-aece899f6aab"
      },
      "execution_count": null,
      "outputs": [
        {
          "output_type": "stream",
          "name": "stdout",
          "text": [
            "Training set shape: (4678, 29)\n",
            "Testing set shape: (1170, 29)\n"
          ]
        }
      ]
    },
    {
      "cell_type": "code",
      "source": [
        "# Check dataset columns\n",
        "print(df.columns)  # Ensure 'Amount' exists\n",
        "\n",
        "# Normalize the Amount column if it exists\n",
        "if 'Amount' in df.columns:\n",
        "    scaler = StandardScaler()\n",
        "    df['Amount'] = scaler.fit_transform(df[['Amount']])\n",
        "else:\n",
        "    print(\"Column 'Amount' not found. Skipping normalization.\")\n",
        "\n",
        "# Proceed with training\n"
      ],
      "metadata": {
        "colab": {
          "base_uri": "https://localhost:8080/"
        },
        "id": "re-XLjPxRctm",
        "outputId": "b5f3886a-6e00-4107-bf92-689383c28adc"
      },
      "execution_count": null,
      "outputs": [
        {
          "output_type": "stream",
          "name": "stdout",
          "text": [
            "Index(['V1', 'V2', 'V3', 'V4', 'V5', 'V6', 'V7', 'V8', 'V9', 'V10', 'V11',\n",
            "       'V12', 'V13', 'V14', 'V15', 'V16', 'V17', 'V18', 'V19', 'V20', 'V21',\n",
            "       'V22', 'V23', 'V24', 'V25', 'V26', 'V27', 'V28', 'Class',\n",
            "       'Normalized_Amount'],\n",
            "      dtype='object')\n",
            "Column 'Amount' not found. Skipping normalization.\n"
          ]
        }
      ]
    },
    {
      "cell_type": "code",
      "source": [
        "# Use Normalized_Amount instead of Amount\n",
        "if 'Normalized_Amount' in df.columns:\n",
        "    X['Normalized_Amount'] = df['Normalized_Amount']\n",
        "else:\n",
        "    print(\"Column 'Normalized_Amount' not found. Skipping normalization.\")\n"
      ],
      "metadata": {
        "id": "jGdit8uARfmy"
      },
      "execution_count": null,
      "outputs": []
    },
    {
      "cell_type": "code",
      "source": [
        "print(df.columns)  # Check if 'Class' is present\n",
        "print(\"Unique values in Class column:\", df['Class'].unique())  # Should be 0 and 1\n"
      ],
      "metadata": {
        "colab": {
          "base_uri": "https://localhost:8080/"
        },
        "id": "EKSgG-C0SLhl",
        "outputId": "22e308ac-922b-4786-af54-7d40c2e96ddc"
      },
      "execution_count": null,
      "outputs": [
        {
          "output_type": "stream",
          "name": "stdout",
          "text": [
            "Index(['V1', 'V2', 'V3', 'V4', 'V5', 'V6', 'V7', 'V8', 'V9', 'V10', 'V11',\n",
            "       'V12', 'V13', 'V14', 'V15', 'V16', 'V17', 'V18', 'V19', 'V20', 'V21',\n",
            "       'V22', 'V23', 'V24', 'V25', 'V26', 'V27', 'V28', 'Class',\n",
            "       'Normalized_Amount'],\n",
            "      dtype='object')\n",
            "Unique values in Class column: [ 0.  1. nan]\n"
          ]
        }
      ]
    },
    {
      "cell_type": "code",
      "source": [
        "print(\"Columns in dataset:\", df.columns)  # Ensure 'Class' is present\n",
        "print(\"X_train shape:\", X_train.shape)\n",
        "print(\"y_train shape:\", y_train.shape)\n",
        "print(\"Unique values in Class column:\", y_train.unique())  # Should be 0 and 1\n"
      ],
      "metadata": {
        "colab": {
          "base_uri": "https://localhost:8080/"
        },
        "id": "ItSj2Ww7SSIJ",
        "outputId": "16540da7-93d0-42cb-8ebf-554e21598bf5"
      },
      "execution_count": null,
      "outputs": [
        {
          "output_type": "stream",
          "name": "stdout",
          "text": [
            "Columns in dataset: Index(['V1', 'V2', 'V3', 'V4', 'V5', 'V6', 'V7', 'V8', 'V9', 'V10', 'V11',\n",
            "       'V12', 'V13', 'V14', 'V15', 'V16', 'V17', 'V18', 'V19', 'V20', 'V21',\n",
            "       'V22', 'V23', 'V24', 'V25', 'V26', 'V27', 'V28', 'Class',\n",
            "       'Normalized_Amount'],\n",
            "      dtype='object')\n",
            "X_train shape: (4678, 29)\n",
            "y_train shape: (4678,)\n",
            "Unique values in Class column: [ 0. nan  1.]\n"
          ]
        }
      ]
    },
    {
      "cell_type": "code",
      "source": [
        "# Drop rows where 'Class' is NaN\n",
        "X_train = X_train[y_train.notna()]\n",
        "y_train = y_train.dropna()\n",
        "\n",
        "# Convert 'Class' to integers (ensure it's properly formatted)\n",
        "y_train = y_train.astype(int)\n",
        "\n",
        "print(\"Fixed y_train:\")\n",
        "print(y_train.unique())  # Should now only contain [0, 1]\n",
        "\n"
      ],
      "metadata": {
        "colab": {
          "base_uri": "https://localhost:8080/"
        },
        "id": "nJkfuBppSt5x",
        "outputId": "8785cb93-d297-4911-8e1b-6df70020c230"
      },
      "execution_count": null,
      "outputs": [
        {
          "output_type": "stream",
          "name": "stdout",
          "text": [
            "Fixed y_train:\n",
            "[0 1]\n"
          ]
        }
      ]
    },
    {
      "cell_type": "code",
      "source": [
        "from imblearn.over_sampling import RandomOverSampler\n",
        "\n",
        "# Apply Random Oversampling instead of SMOTE\n",
        "oversampler = RandomOverSampler(random_state=42)\n",
        "X_train_resampled, y_train_resampled = oversampler.fit_resample(X_train, y_train)\n",
        "\n",
        "print(\"Oversampling Applied Successfully!\")\n",
        "print(\"New class distribution:\\n\", y_train_resampled.value_counts())\n"
      ],
      "metadata": {
        "colab": {
          "base_uri": "https://localhost:8080/"
        },
        "id": "1yJuVfHcTHlH",
        "outputId": "9dee4cee-e776-41cb-974e-6954c7622e61"
      },
      "execution_count": null,
      "outputs": [
        {
          "output_type": "stream",
          "name": "stdout",
          "text": [
            "Oversampling Applied Successfully!\n",
            "New class distribution:\n",
            " Class\n",
            "0    4674\n",
            "1    4674\n",
            "Name: count, dtype: int64\n"
          ]
        }
      ]
    },
    {
      "cell_type": "code",
      "source": [
        "# Train the logistic regression model\n",
        "model = LogisticRegression()\n",
        "model.fit(X_train_resampled, y_train_resampled)\n",
        "\n",
        "# Make predictions\n",
        "y_pred = model.predict(X_test)\n",
        "\n",
        "# Evaluate performance\n",
        "print(\"Accuracy:\", accuracy_score(y_test, y_pred))\n",
        "print(\"Precision:\", precision_score(y_test, y_pred))\n",
        "print(\"Recall:\", recall_score(y_test, y_pred))\n",
        "print(\"F1 Score:\", f1_score(y_test, y_pred))\n",
        "print(\"\\nClassification Report:\\n\", classification_report(y_test, y_pred))\n"
      ],
      "metadata": {
        "colab": {
          "base_uri": "https://localhost:8080/"
        },
        "id": "H9YvhI3ATLNw",
        "outputId": "80a9b28d-a2d4-4433-9aa0-8bdf750b4a1f"
      },
      "execution_count": null,
      "outputs": [
        {
          "output_type": "stream",
          "name": "stdout",
          "text": [
            "Accuracy: 0.9974358974358974\n",
            "Precision: 0.0\n",
            "Recall: 0.0\n",
            "F1 Score: 0.0\n",
            "\n",
            "Classification Report:\n",
            "               precision    recall  f1-score   support\n",
            "\n",
            "         0.0       1.00      1.00      1.00      1170\n",
            "         1.0       0.00      0.00      0.00         0\n",
            "\n",
            "    accuracy                           1.00      1170\n",
            "   macro avg       0.50      0.50      0.50      1170\n",
            "weighted avg       1.00      1.00      1.00      1170\n",
            "\n"
          ]
        },
        {
          "output_type": "stream",
          "name": "stderr",
          "text": [
            "/usr/local/lib/python3.11/dist-packages/sklearn/metrics/_classification.py:1565: UndefinedMetricWarning: Recall is ill-defined and being set to 0.0 due to no true samples. Use `zero_division` parameter to control this behavior.\n",
            "  _warn_prf(average, modifier, f\"{metric.capitalize()} is\", len(result))\n",
            "/usr/local/lib/python3.11/dist-packages/sklearn/metrics/_classification.py:1565: UndefinedMetricWarning: Recall is ill-defined and being set to 0.0 in labels with no true samples. Use `zero_division` parameter to control this behavior.\n",
            "  _warn_prf(average, modifier, f\"{metric.capitalize()} is\", len(result))\n",
            "/usr/local/lib/python3.11/dist-packages/sklearn/metrics/_classification.py:1565: UndefinedMetricWarning: Recall is ill-defined and being set to 0.0 in labels with no true samples. Use `zero_division` parameter to control this behavior.\n",
            "  _warn_prf(average, modifier, f\"{metric.capitalize()} is\", len(result))\n",
            "/usr/local/lib/python3.11/dist-packages/sklearn/metrics/_classification.py:1565: UndefinedMetricWarning: Recall is ill-defined and being set to 0.0 in labels with no true samples. Use `zero_division` parameter to control this behavior.\n",
            "  _warn_prf(average, modifier, f\"{metric.capitalize()} is\", len(result))\n"
          ]
        }
      ]
    },
    {
      "cell_type": "code",
      "source": [
        "import numpy as np\n",
        "\n",
        "feature_importance = np.abs(model.coef_).flatten()\n",
        "feature_names = X_train.columns\n",
        "\n",
        "# Sort features by importance\n",
        "sorted_indices = np.argsort(feature_importance)[::-1]\n",
        "for i in sorted_indices[:10]:  # Top 10 features\n",
        "    print(f\"{feature_names[i]}: {feature_importance[i]:.4f}\")\n"
      ],
      "metadata": {
        "colab": {
          "base_uri": "https://localhost:8080/"
        },
        "id": "LK9kinERTio_",
        "outputId": "e87d42de-3320-4799-b1f1-6b56ffcb3a54"
      },
      "execution_count": null,
      "outputs": [
        {
          "output_type": "stream",
          "name": "stdout",
          "text": [
            "V14: 2.0166\n",
            "V12: 1.8382\n",
            "V23: 1.6648\n",
            "V10: 1.5618\n",
            "V15: 1.5241\n",
            "V20: 1.4197\n",
            "V1: 1.1507\n",
            "V17: 1.0047\n",
            "V4: 0.9800\n",
            "V3: 0.9714\n"
          ]
        }
      ]
    },
    {
      "cell_type": "code",
      "source": [
        "import seaborn as sns\n",
        "import matplotlib.pyplot as plt\n",
        "from sklearn.metrics import confusion_matrix\n",
        "\n",
        "cm = confusion_matrix(y_test, y_pred)\n",
        "sns.heatmap(cm, annot=True, fmt=\"d\", cmap=\"Blues\", xticklabels=[\"Genuine\", \"Fraud\"], yticklabels=[\"Genuine\", \"Fraud\"])\n",
        "plt.xlabel(\"Predicted\")\n",
        "plt.ylabel(\"Actual\")\n",
        "plt.title(\"Confusion Matrix\")\n",
        "plt.show()\n"
      ],
      "metadata": {
        "colab": {
          "base_uri": "https://localhost:8080/",
          "height": 472
        },
        "id": "PJBaZWkMTqDQ",
        "outputId": "76c2548e-10b4-4b28-8ff0-394ae9642967"
      },
      "execution_count": null,
      "outputs": [
        {
          "output_type": "display_data",
          "data": {
            "text/plain": [
              "<Figure size 640x480 with 2 Axes>"
            ],
            "image/png": "[encoded data removed]"
          },
          "metadata": {}
        }
      ]
    },
    {
      "cell_type": "code",
      "source": [
        "from sklearn.ensemble import RandomForestClassifier\n",
        "\n",
        "rf_model = RandomForestClassifier(random_state=42)\n",
        "rf_model.fit(X_train_resampled, y_train_resampled)\n",
        "\n",
        "rf_pred = rf_model.predict(X_test)\n",
        "\n",
        "print(\"Random Forest Accuracy:\", accuracy_score(y_test, rf_pred))\n",
        "print(\"Random Forest F1 Score:\", f1_score(y_test, rf_pred))\n"
      ],
      "metadata": {
        "colab": {
          "base_uri": "https://localhost:8080/"
        },
        "id": "mk1XxvAGTsym",
        "outputId": "705496cf-9630-4bc9-dedf-8d7580507d3f"
      },
      "execution_count": null,
      "outputs": [
        {
          "output_type": "stream",
          "name": "stdout",
          "text": [
            "Random Forest Accuracy: 1.0\n",
            "Random Forest F1 Score: 0.0\n"
          ]
        },
        {
          "output_type": "stream",
          "name": "stderr",
          "text": [
            "/usr/local/lib/python3.11/dist-packages/sklearn/metrics/_classification.py:1565: UndefinedMetricWarning: F-score is ill-defined and being set to 0.0 due to no true nor predicted samples. Use `zero_division` parameter to control this behavior.\n",
            "  _warn_prf(average, modifier, f\"{metric.capitalize()} is\", len(result))\n"
          ]
        }
      ]
    },
    {
      "cell_type": "code",
      "source": [
        "import matplotlib.pyplot as plt\n",
        "\n",
        "# Count the occurrences of each class\n",
        "class_counts = y_train.value_counts()\n",
        "\n",
        "# Labels for the classes\n",
        "labels = [\"Genuine (0)\", \"Fraud (1)\"]\n",
        "\n",
        "# Plot the pie chart\n",
        "plt.figure(figsize=(6, 6))\n",
        "plt.pie(class_counts, labels=labels, autopct='%1.1f%%', colors=[\"blue\", \"red\"], startangle=140)\n",
        "plt.title(\"Fraud vs Genuine Transactions (Before SMOTE)\")\n",
        "plt.show()\n"
      ],
      "metadata": {
        "colab": {
          "base_uri": "https://localhost:8080/",
          "height": 521
        },
        "id": "bw_6w5E-TvnK",
        "outputId": "e522da5d-0bcd-464c-fd23-d9a3038bcde0"
      },
      "execution_count": null,
      "outputs": [
        {
          "output_type": "display_data",
          "data": {
            "text/plain": [
              "<Figure size 600x600 with 1 Axes>"
            ],
            "image/png": "[encoded data removed]"
          },
          "metadata": {}
        }
      ]
    }
  ]
}